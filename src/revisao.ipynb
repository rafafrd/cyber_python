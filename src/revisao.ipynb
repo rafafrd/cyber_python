{
 "cells": [
  {
   "cell_type": "markdown",
   "id": "cc358b4c",
   "metadata": {},
   "source": [
    "## Exercício 1"
   ]
  },
  {
   "cell_type": "code",
   "execution_count": 4,
   "id": "60a852e3",
   "metadata": {},
   "outputs": [
    {
     "name": "stdout",
     "output_type": "stream",
     "text": [
      "0 é par\n",
      "1 é ímpar\n",
      "2 é par\n",
      "3 é ímpar\n",
      "4 é par\n",
      "5 é ímpar\n",
      "6 é par\n",
      "7 é ímpar\n",
      "8 é par\n",
      "9 é ímpar\n"
     ]
    }
   ],
   "source": [
    "x = 0\n",
    "while x < 10:\n",
    "    if x % 2 == 0:\n",
    "        print(f\"{x} é par\")\n",
    "    else:\n",
    "        print(f\"{x} é ímpar\")\n",
    "    x += 1"
   ]
  },
  {
   "cell_type": "markdown",
   "id": "8a4693fa",
   "metadata": {},
   "source": [
    "## Exercício 2"
   ]
  },
  {
   "cell_type": "code",
   "execution_count": 5,
   "id": "b795bc3c",
   "metadata": {},
   "outputs": [
    {
     "name": "stdout",
     "output_type": "stream",
     "text": [
      "0 é par\n",
      "1 é ímpar\n",
      "2 é par\n",
      "3 é ímpar\n",
      "4 é par\n",
      "5 é ímpar\n",
      "6 é par\n",
      "7 é ímpar\n",
      "8 é par\n",
      "9 é ímpar\n",
      "10 é par\n"
     ]
    }
   ],
   "source": [
    "i = 0\n",
    "while True:\n",
    "    if i % 2 == 0:\n",
    "        print(f\"{i} é par\")\n",
    "    else:\n",
    "        print(f\"{i} é ímpar\")\n",
    "    if i >= 10:\n",
    "        break\n",
    "    i += 1"
   ]
  },
  {
   "cell_type": "markdown",
   "id": "e5b609e9",
   "metadata": {},
   "source": [
    "## Exercício 3"
   ]
  },
  {
   "cell_type": "code",
   "execution_count": 6,
   "id": "35c3f3e1",
   "metadata": {},
   "outputs": [],
   "source": [
    "def verificar_par_ou_impar(numero):\n",
    "    if numero % 2 == 0:\n",
    "        return f\"{numero} é par\"\n",
    "    else:\n",
    "        return f\"{numero} é ímpar\""
   ]
  },
  {
   "cell_type": "code",
   "execution_count": 7,
   "id": "642cde40",
   "metadata": {},
   "outputs": [
    {
     "name": "stdout",
     "output_type": "stream",
     "text": [
      "1 - Opção para verificar números pares\n",
      "2 - Opção para verificar números ímpares\n",
      "0 - Sair do programa\n",
      "0 é par\n",
      "2 é par\n",
      "4 é par\n",
      "6 é par\n",
      "8 é par\n",
      "10 é par\n",
      "1 - Opção para verificar números pares\n",
      "2 - Opção para verificar números ímpares\n",
      "0 - Sair do programa\n",
      "0 é par\n",
      "2 é par\n",
      "4 é par\n",
      "6 é par\n",
      "8 é par\n",
      "10 é par\n",
      "1 - Opção para verificar números pares\n",
      "2 - Opção para verificar números ímpares\n",
      "0 - Sair do programa\n",
      "0 é par\n",
      "2 é par\n",
      "4 é par\n",
      "6 é par\n",
      "8 é par\n",
      "10 é par\n",
      "1 - Opção para verificar números pares\n",
      "2 - Opção para verificar números ímpares\n",
      "0 - Sair do programa\n",
      "1 é ímpar\n",
      "3 é ímpar\n",
      "5 é ímpar\n",
      "7 é ímpar\n",
      "9 é ímpar\n",
      "1 - Opção para verificar números pares\n",
      "2 - Opção para verificar números ímpares\n",
      "0 - Sair do programa\n",
      "Programa encerrado.\n"
     ]
    }
   ],
   "source": [
    "print(\"1 - Opção para verificar números pares\")\n",
    "print(\"2 - Opção para verificar números ímpares\")\n",
    "print(\"0 - Sair do programa\")\n",
    "opcao = input(\"Digite uma opção (1, 2 ou 0): \")\n",
    "\n",
    "while opcao != \"0\":\n",
    "    if opcao == \"1\":\n",
    "        for numero in range(0,11,2):\n",
    "            print(verificar_par_ou_impar(numero))\n",
    "    elif opcao == \"2\":\n",
    "        for numero in range(1, 11, 2):\n",
    "            print(verificar_par_ou_impar(numero))\n",
    "    else:\n",
    "        print(\"Opção inválida. Tente novamente.\")\n",
    "    \n",
    "    print(\"1 - Opção para verificar números pares\")\n",
    "    print(\"2 - Opção para verificar números ímpares\")\n",
    "    print(\"0 - Sair do programa\")\n",
    "    opcao = input(\"Digite uma opção (1, 2 ou 0): \")\n",
    "print(\"Programa encerrado.\")"
   ]
  },
  {
   "cell_type": "code",
   "execution_count": 8,
   "id": "4071f18d",
   "metadata": {},
   "outputs": [
    {
     "name": "stdout",
     "output_type": "stream",
     "text": [
      "Função par_ou_impar: par\n",
      "Função par_ou_impar: ímpar\n"
     ]
    }
   ],
   "source": [
    "def par_ou_impar(numero):\n",
    "    return \"par\" if numero % 2 == 0 else \"ímpar\"\n",
    "print(\"Função par_ou_impar:\", par_ou_impar(4))\n",
    "print(\"Função par_ou_impar:\", par_ou_impar(5))"
   ]
  },
  {
   "cell_type": "markdown",
   "id": "a4a34688",
   "metadata": {},
   "source": [
    "# **Exercícios de Matrizes (Listas Aninhadas)**\n",
    "\n",
    "- **Exercício 4:** Criação e Exibição de Matriz\n",
    "    \n",
    "    Crie uma matriz 3x3 (uma lista de listas) com números inteiros de sua escolha. Em seguida, escreva um programa que imprima essa matriz na tela, formatada em linhas e colunas.\n",
    "    \n",
    "- **Exercício 5:** Soma de todos os Elementos\n",
    "    \n",
    "    Dada a matriz do exercício anterior, calcule e exiba a soma de todos os seus elementos.\n",
    "    \n",
    "- **Exercício 6:** Encontrando o Maior Valor\n",
    "    \n",
    "    Escreva um programa que encontre e mostre o maior número presente em uma matriz 4x4, juntamente com sua posição (linha e coluna).\n",
    "    \n",
    "- **Exercício 7:** Soma da Diagonal Principal\n",
    "    \n",
    "    Crie uma função que receba uma matriz quadrada (mesmo número de linhas e colunas) e retorne a soma dos elementos da sua diagonal principal (onde o índice da linha é igual ao índice da coluna).\n",
    "    "
   ]
  },
  {
   "cell_type": "code",
   "execution_count": 9,
   "id": "8c6539af",
   "metadata": {},
   "outputs": [],
   "source": [
    "matriz = [\n",
    "    [1, 2, 3],\n",
    "    [4, 5, 6],\n",
    "    [7, 8, 9]\n",
    "]"
   ]
  },
  {
   "cell_type": "code",
   "execution_count": 10,
   "id": "04a539fe",
   "metadata": {},
   "outputs": [
    {
     "name": "stdout",
     "output_type": "stream",
     "text": [
      "1\n",
      "2\n",
      "3\n",
      "4\n",
      "5\n",
      "6\n",
      "7\n",
      "8\n",
      "9\n",
      "Matriz formatada:\n",
      "1 2 3 \n",
      "4 5 6 \n",
      "7 8 9 \n"
     ]
    }
   ],
   "source": [
    "for linha in matriz:\n",
    "    for elemento in linha:\n",
    "        print(elemento)\n",
    "print(\"Matriz formatada:\")\n",
    "for i in range(3):\n",
    "    for j in range(3):\n",
    "        print(matriz[i][j], end=' ')\n",
    "    print()"
   ]
  },
  {
   "cell_type": "code",
   "execution_count": 11,
   "id": "2c9d08e4",
   "metadata": {},
   "outputs": [
    {
     "name": "stdout",
     "output_type": "stream",
     "text": [
      "Soma: 45\n"
     ]
    }
   ],
   "source": [
    "soma = 0\n",
    "for i in matriz:\n",
    "    for j in i:\n",
    "        soma += j\n",
    "print(\"Soma:\", soma)"
   ]
  },
  {
   "cell_type": "code",
   "execution_count": 12,
   "id": "2daa046c",
   "metadata": {},
   "outputs": [
    {
     "name": "stdout",
     "output_type": "stream",
     "text": [
      "Menor valor: 1\n",
      "Maior valor: 9\n"
     ]
    }
   ],
   "source": [
    "menor_valor = matriz[0][0]\n",
    "maior_valor = matriz[0][0]\n",
    "for linha in matriz:\n",
    "    for elemento in linha:\n",
    "        if elemento < menor_valor:\n",
    "            menor_valor = elemento\n",
    "        if elemento > maior_valor:\n",
    "            maior_valor = elemento\n",
    "print(\"Menor valor:\", menor_valor)\n",
    "print(\"Maior valor:\", maior_valor)"
   ]
  },
  {
   "cell_type": "code",
   "execution_count": null,
   "id": "9d2f273f",
   "metadata": {},
   "outputs": [
    {
     "name": "stdout",
     "output_type": "stream",
     "text": [
      "Soma da diagonal: 15\n"
     ]
    }
   ],
   "source": [
    "def soma_diagonal(matriz):\n",
    "    soma = 0\n",
    "    for i in range(len(matriz)):\n",
    "        soma += matriz[i][i]\n",
    "    return soma\n",
    "print(\"Soma da diagonal:\", soma_diagonal(matriz))"
   ]
  },
  {
   "cell_type": "markdown",
   "id": "1b1fe6ed",
   "metadata": {},
   "source": [
    "\n",
    "\n",
    "---\n",
    "\n",
    "# **4. Exercícios com Dicionários**\n",
    "\n",
    "- **Exercício 8:** Agenda de Contatos\n",
    "    \n",
    "    Crie um dicionário para armazenar uma agenda de contatos, onde as chaves são os nomes das pessoas e os valores são seus números de telefone. Adicione pelo menos 3 contatos e, em seguida, peça ao usuário um nome para buscar e exiba o telefone correspondente. Se o nome não existir, informe ao usuário.\n",
    "    \n",
    "- **Exercício 9:** Contagem de Palavras\n",
    "    \n",
    "    Escreva um programa que receba uma frase e conte a frequência de cada palavra, armazenando o resultado em um dicionário. Ao final, imprima o dicionário.\n",
    "    \n",
    "    - **Exemplo de entrada:** \"python é legal e python é divertido\"\n",
    "    - **Exemplo de saída:** `{'python': 2, 'é': 2, 'legal': 1, 'e': 1, 'divertido': 1}`\n",
    "    - **Dica:** Use o método `.split()` para separar a frase em palavras.\n",
    "- **Exercício 10:** Cadastro de Aluno\n",
    "    \n",
    "    Crie um programa que armazene os dados de um aluno (nome, matrícula, curso e notas) em um dicionário. As notas devem ser uma lista dentro do dicionário. Em seguida, calcule a média das notas e adicione-a como um novo item no dicionário com a chave 'media'. Por fim, imprima o dicionário completo.\n",
    "    \n",
    "- **Exercício 11:** Atualizando Inventário\n",
    "    \n",
    "    Você tem um dicionário que representa o inventário de uma loja de itens de cibersegurança: `{'firewall': 10, 'roteador': 15, 'servidor': 5}`. Escreva um programa que permita ao usuário:\n",
    "    \n",
    "    1. Adicionar um novo item e sua quantidade.\n",
    "    2. Atualizar a quantidade de um item existente.\n",
    "    3. Imprimir o inventário final.\n",
    "- **Exercício 12:** Unindo Dicionários e Listas\n",
    "    \n",
    "    Crie um programa que leia o nome, a idade e a cidade de várias pessoas, guardando os dados de cada pessoa em um dicionário. Todos os dicionários devem ser armazenados em uma lista. O programa deve parar quando o usuário digitar 'sair' no nome. No final, mostre:\n",
    "    \n",
    "    - Quantas pessoas foram cadastradas.\n",
    "    - Uma lista com os nomes das pessoas que têm mais de 25 anos."
   ]
  },
  {
   "cell_type": "markdown",
   "id": "ef288b79",
   "metadata": {},
   "source": []
  },
  {
   "cell_type": "code",
   "execution_count": 14,
   "id": "c3458b9b",
   "metadata": {},
   "outputs": [
    {
     "name": "stdout",
     "output_type": "stream",
     "text": [
      "0 não encontrado na agenda.\n"
     ]
    }
   ],
   "source": [
    "agenda = {\n",
    "    \"João\": \"1234-5678\", \"Maria\": \"9876-5432\", \"Pedro\": \"5555-5555\"\n",
    "}\n",
    "busca = input(\"Digite o nome para buscar o telefone: \")\n",
    "if busca in agenda:\n",
    "    print(f\"Telefone de {busca}: {agenda[busca]}\")\n",
    "else:\n",
    "    print(f\"{busca} não encontrado na agenda.\")"
   ]
  },
  {
   "cell_type": "code",
   "execution_count": 15,
   "id": "6e4b823f",
   "metadata": {},
   "outputs": [
    {
     "name": "stdout",
     "output_type": "stream",
     "text": [
      "Total de palavras: 1\n",
      "Contagem de palavras: {'0': 1}\n"
     ]
    }
   ],
   "source": [
    "contador = 0\n",
    "dicionario_palavras = {}\n",
    "frase = input(\"Digite uma frase: \")\n",
    "palavras = frase.split()\n",
    "for palavra in palavras:\n",
    "    if palavra in dicionario_palavras:\n",
    "        dicionario_palavras[palavra] += 1\n",
    "    else:\n",
    "        dicionario_palavras[palavra] = 1\n",
    "    contador += 1\n",
    "print(\"Total de palavras:\", contador)\n",
    "print(\"Contagem de palavras:\", dicionario_palavras)"
   ]
  },
  {
   "cell_type": "code",
   "execution_count": 19,
   "id": "2e3fb823",
   "metadata": {},
   "outputs": [
    {
     "name": "stdout",
     "output_type": "stream",
     "text": [
      "Entrada inválida. Digite um número ou 'sair'.\n",
      "Dados do aluno: {'nome': 'ROnaldo', 'matricula': '5432', 'curso': 'culinaria', 'notas': [8.0, 7.0, 9.0, 10.0], 'media': 8.5}\n",
      "Média das notas: 8.5\n",
      "Dicionário completo: {'nome': 'ROnaldo', 'matricula': '5432', 'curso': 'culinaria', 'notas': [8.0, 7.0, 9.0, 10.0], 'media': 8.5}\n"
     ]
    }
   ],
   "source": [
    "\n",
    "#Crie um dicionário para armazenar uma agenda de contatos, onde as chaves são os nomes das pessoas e os valores são seus números de telefone. Adicione pelo menos 3 contatos e, em seguida, peça ao usuário um nome para buscar e \n",
    "#exiba o telefone correspondente. Se o nome não existir, informe ao usuário.\n",
    "aluno_novo = input(\"Digite o nome do aluno a ser adicionado: \")\n",
    "matricula_nova = input(\"Digite a matrícula do aluno: \")\n",
    "curso_novo = input(\"Digite o curso do aluno: \")\n",
    "notas_novas = []\n",
    "nota = ''\n",
    "while nota.lower() != 'sair':\n",
    "    nota = input(\"Digite uma nota (ou 'sair' para finalizar): \")\n",
    "    try:\n",
    "        notas_novas.append(float(nota))\n",
    "    except ValueError:\n",
    "        print(\"Entrada inválida. Digite um número ou 'sair'.\")\n",
    "aluno = {\n",
    "    \"nome\": aluno_novo,\n",
    "    \"matricula\": matricula_nova,\n",
    "    \"curso\": curso_novo,\n",
    "    \"notas\": notas_novas\n",
    "}\n",
    "media = sum(aluno[\"notas\"]) / len(aluno[\"notas\"])\n",
    "aluno[\"media\"] = media\n",
    "print(\"Dados do aluno:\", aluno)\n",
    "print(\"Média das notas:\", aluno[\"media\"])\n",
    "print(\"Dicionário completo:\", aluno)"
   ]
  },
  {
   "cell_type": "code",
   "execution_count": null,
   "id": "c0e1ff24",
   "metadata": {},
   "outputs": [],
   "source": []
  }
 ],
 "metadata": {
  "kernelspec": {
   "display_name": ".venv (3.13.3)",
   "language": "python",
   "name": "python3"
  },
  "language_info": {
   "codemirror_mode": {
    "name": "ipython",
    "version": 3
   },
   "file_extension": ".py",
   "mimetype": "text/x-python",
   "name": "python",
   "nbconvert_exporter": "python",
   "pygments_lexer": "ipython3",
   "version": "3.13.3"
  }
 },
 "nbformat": 4,
 "nbformat_minor": 5
}
