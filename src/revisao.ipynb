{
 "cells": [
  {
   "cell_type": "markdown",
   "id": "cc358b4c",
   "metadata": {},
   "source": [
    "## Exercício 1"
   ]
  },
  {
   "cell_type": "code",
   "execution_count": null,
   "id": "60a852e3",
   "metadata": {},
   "outputs": [],
   "source": [
    "x = 0\n",
    "while x < 10:\n",
    "    if x % 2 == 0:\n",
    "        print(f\"{x} é par\")\n",
    "    else:\n",
    "        print(f\"{x} é ímpar\")\n",
    "    x += 1"
   ]
  },
  {
   "cell_type": "markdown",
   "id": "8a4693fa",
   "metadata": {},
   "source": [
    "## Exercício 2"
   ]
  },
  {
   "cell_type": "code",
   "execution_count": 4,
   "id": "b795bc3c",
   "metadata": {},
   "outputs": [
    {
     "name": "stdout",
     "output_type": "stream",
     "text": [
      "0 é par\n",
      "1 é ímpar\n",
      "2 é par\n",
      "3 é ímpar\n",
      "4 é par\n",
      "5 é ímpar\n",
      "6 é par\n",
      "7 é ímpar\n",
      "8 é par\n",
      "9 é ímpar\n",
      "10 é par\n"
     ]
    }
   ],
   "source": [
    "i = 0\n",
    "while True:\n",
    "    if i % 2 == 0:\n",
    "        print(f\"{i} é par\")\n",
    "    else:\n",
    "        print(f\"{i} é ímpar\")\n",
    "    if i >= 10:\n",
    "        break\n",
    "    i += 1"
   ]
  },
  {
   "cell_type": "markdown",
   "id": "e5b609e9",
   "metadata": {},
   "source": [
    "## Exercício 3"
   ]
  },
  {
   "cell_type": "code",
   "execution_count": 3,
   "id": "35c3f3e1",
   "metadata": {},
   "outputs": [],
   "source": [
    "def verificar_par_ou_impar(numero):\n",
    "    if numero % 2 == 0:\n",
    "        return f\"{numero} é par\"\n",
    "    else:\n",
    "        return f\"{numero} é ímpar\""
   ]
  },
  {
   "cell_type": "code",
   "execution_count": null,
   "id": "642cde40",
   "metadata": {},
   "outputs": [
    {
     "name": "stdout",
     "output_type": "stream",
     "text": [
      "1 - Opção para verificar números pares\n",
      "2 - Opção para verificar números ímpares\n",
      "0 - Sair do programa\n",
      "0 é par\n",
      "1 é ímpar\n",
      "2 é par\n",
      "3 é ímpar\n",
      "4 é par\n",
      "5 é ímpar\n",
      "6 é par\n",
      "7 é ímpar\n",
      "8 é par\n",
      "9 é ímpar\n",
      "10 é par\n",
      "1 - Opção para verificar números pares\n",
      "2 - Opção para verificar números ímpares\n",
      "0 - Sair do programa\n",
      "0 é par\n",
      "1 é ímpar\n",
      "2 é par\n",
      "3 é ímpar\n",
      "4 é par\n",
      "5 é ímpar\n",
      "6 é par\n",
      "7 é ímpar\n",
      "8 é par\n",
      "9 é ímpar\n",
      "10 é par\n",
      "1 - Opção para verificar números pares\n",
      "2 - Opção para verificar números ímpares\n",
      "0 - Sair do programa\n",
      "Programa encerrado.\n"
     ]
    }
   ],
   "source": [
    "print(\"1 - Opção para verificar números pares\")\n",
    "print(\"2 - Opção para verificar números ímpares\")\n",
    "print(\"0 - Sair do programa\")\n",
    "opcao = input(\"Digite uma opção (1, 2 ou 0): \")\n",
    "\n",
    "while opcao != \"0\":\n",
    "    if opcao == \"1\":\n",
    "        for numero in range(0,11,2):\n",
    "            print(verificar_par_ou_impar(numero))\n",
    "    elif opcao == \"2\":\n",
    "        for numero in range(1, 11, 2):\n",
    "            print(verificar_par_ou_impar(numero))\n",
    "    else:\n",
    "        print(\"Opção inválida. Tente novamente.\")\n",
    "    \n",
    "    print(\"1 - Opção para verificar números pares\")\n",
    "    print(\"2 - Opção para verificar números ímpares\")\n",
    "    print(\"0 - Sair do programa\")\n",
    "    opcao = input(\"Digite uma opção (1, 2 ou 0): \")\n",
    "print(\"Programa encerrado.\")"
   ]
  },
  {
   "cell_type": "code",
   "execution_count": null,
   "id": "4071f18d",
   "metadata": {},
   "outputs": [],
   "source": []
  }
 ],
 "metadata": {
  "kernelspec": {
   "display_name": ".venv (3.13.3)",
   "language": "python",
   "name": "python3"
  },
  "language_info": {
   "codemirror_mode": {
    "name": "ipython",
    "version": 3
   },
   "file_extension": ".py",
   "mimetype": "text/x-python",
   "name": "python",
   "nbconvert_exporter": "python",
   "pygments_lexer": "ipython3",
   "version": "3.13.3"
  }
 },
 "nbformat": 4,
 "nbformat_minor": 5
}
